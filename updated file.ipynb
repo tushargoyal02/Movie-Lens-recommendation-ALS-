{
 "cells": [
  {
   "cell_type": "markdown",
   "metadata": {},
   "source": [
    "# Creating sparkSession & it's Object"
   ]
  },
  {
   "cell_type": "code",
   "execution_count": 1,
   "metadata": {},
   "outputs": [],
   "source": [
    "from pyspark.sql import SparkSession\n",
    "\n",
    "\n",
    "spark = SparkSession.builder.appName(\"ALSWork1\").getOrCreate()\n"
   ]
  },
  {
   "cell_type": "code",
   "execution_count": 2,
   "metadata": {},
   "outputs": [],
   "source": [
    "from pyspark.ml.evaluation import RegressionEvaluator\n",
    "from pyspark.ml.recommendation import ALS"
   ]
  },
  {
   "cell_type": "markdown",
   "metadata": {},
   "source": [
    "# Creating data frame object with the file readed"
   ]
  },
  {
   "cell_type": "code",
   "execution_count": 3,
   "metadata": {},
   "outputs": [
    {
     "name": "stdout",
     "output_type": "stream",
     "text": [
      "+------+-------+------+---------+\n",
      "|userId|movieId|rating|timestamp|\n",
      "+------+-------+------+---------+\n",
      "|     1|      1|   4.0|964982703|\n",
      "|     1|      3|   4.0|964981247|\n",
      "|     1|      6|   4.0|964982224|\n",
      "|     1|     47|   5.0|964983815|\n",
      "|     1|     50|   5.0|964982931|\n",
      "|     1|     70|   3.0|964982400|\n",
      "|     1|    101|   5.0|964980868|\n",
      "|     1|    110|   4.0|964982176|\n",
      "|     1|    151|   5.0|964984041|\n",
      "|     1|    157|   5.0|964984100|\n",
      "|     1|    163|   5.0|964983650|\n",
      "|     1|    216|   5.0|964981208|\n",
      "|     1|    223|   3.0|964980985|\n",
      "|     1|    231|   5.0|964981179|\n",
      "|     1|    235|   4.0|964980908|\n",
      "|     1|    260|   5.0|964981680|\n",
      "|     1|    296|   3.0|964982967|\n",
      "|     1|    316|   3.0|964982310|\n",
      "|     1|    333|   5.0|964981179|\n",
      "|     1|    349|   4.0|964982563|\n",
      "+------+-------+------+---------+\n",
      "only showing top 20 rows\n",
      "\n"
     ]
    }
   ],
   "source": [
    "df= spark.read.csv(\"/home/tushar/Desktop/gitRepos/Movie-Lens-recommendation-ALS-/ml-latest-small/ratings.csv\", inferSchema=True,header=True)\n",
    "df.show()"
   ]
  },
  {
   "cell_type": "code",
   "execution_count": 4,
   "metadata": {},
   "outputs": [
    {
     "name": "stdout",
     "output_type": "stream",
     "text": [
      "+-------+------------------+----------------+------------------+--------------------+\n",
      "|summary|            userId|         movieId|            rating|           timestamp|\n",
      "+-------+------------------+----------------+------------------+--------------------+\n",
      "|  count|            100836|          100836|            100836|              100836|\n",
      "|   mean|326.12756356856676|19435.2957177992| 3.501556983616962|1.2059460873684695E9|\n",
      "| stddev| 182.6184914635004|35530.9871987003|1.0425292390606342|2.1626103599513078E8|\n",
      "|    min|                 1|               1|               0.5|           828124615|\n",
      "|    max|               610|          193609|               5.0|          1537799250|\n",
      "+-------+------------------+----------------+------------------+--------------------+\n",
      "\n"
     ]
    }
   ],
   "source": [
    "#checking any missing or nan values\n",
    "df.describe().show()"
   ]
  },
  {
   "cell_type": "code",
   "execution_count": 53,
   "metadata": {},
   "outputs": [
    {
     "data": {
      "text/plain": [
       "ALS_485a841a248b9ed92757"
      ]
     },
     "execution_count": 53,
     "metadata": {},
     "output_type": "execute_result"
    }
   ],
   "source": [
    "# dividing data into 70 to 30 ratio\n",
    "training, test = df.randomSplit([0.7,0.3])\n",
    "als = ALS(userCol=\"userId\", itemCol=\"movieId\", ratingCol=\"rating\", nonnegative=True) # using non-negative as True to prevent non-negative prediction\n",
    "\n",
    "# this below is used in order to drop any rows in the DataFrame of predictions that contain NaN values\n",
    "als.setColdStartStrategy(\"drop\")"
   ]
  },
  {
   "cell_type": "code",
   "execution_count": 55,
   "metadata": {},
   "outputs": [],
   "source": [
    "# now fitting the model to trainning data\n",
    "model = als.fit(training)"
   ]
  },
  {
   "cell_type": "code",
   "execution_count": 56,
   "metadata": {},
   "outputs": [],
   "source": [
    "# making prediction on the test set\n",
    "predictions = model.transform(test)"
   ]
  },
  {
   "cell_type": "code",
   "execution_count": 57,
   "metadata": {},
   "outputs": [
    {
     "name": "stdout",
     "output_type": "stream",
     "text": [
      "+------+-------+------+----------+----------+\n",
      "|userId|movieId|rating| timestamp|prediction|\n",
      "+------+-------+------+----------+----------+\n",
      "|   385|    471|   4.0| 850766697| 3.2162707|\n",
      "|   602|    471|   4.0| 840876085| 2.8254867|\n",
      "|   500|    471|   1.0|1005528017|  4.002975|\n",
      "|   610|    471|   4.0|1479544381| 3.2390215|\n",
      "|   520|    471|   5.0|1326609921| 3.2856066|\n",
      "|   273|    471|   5.0| 835861348| 3.3858485|\n",
      "|   216|    471|   3.0| 975212641| 3.9241257|\n",
      "|   260|    471|   4.5|1109409455| 3.4699805|\n",
      "|   373|    471|   5.0| 846830388| 4.3931475|\n",
      "|   357|    471|   3.5|1348627082|  4.055018|\n",
      "|   599|    833|   1.5|1519330029| 1.5111393|\n",
      "|   169|   1088|   4.5|1059427717|  4.336215|\n",
      "|    41|   1088|   1.5|1458939142| 3.2766645|\n",
      "|   286|   1088|   3.5|1119561544|  3.535578|\n",
      "|   387|   1088|   1.5|1095040878|  2.577851|\n",
      "|   381|   1088|   3.5|1168664508|  3.854556|\n",
      "|   583|   1088|   3.5|1481474480| 3.9458833|\n",
      "|   414|   1088|   3.0| 961514273| 3.2335653|\n",
      "|   188|   1088|   4.0| 962560253| 4.2790813|\n",
      "|   116|   1088|   4.5|1337195649|  3.868385|\n",
      "+------+-------+------+----------+----------+\n",
      "only showing top 20 rows\n",
      "\n"
     ]
    }
   ],
   "source": [
    "predictions.show()"
   ]
  },
  {
   "cell_type": "code",
   "execution_count": 58,
   "metadata": {},
   "outputs": [],
   "source": [
    "# metric name we are using for continuous prediction\n",
    "#rmse here is root mean square error \n",
    "evaluator = RegressionEvaluator(metricName=\"rmse\",labelCol=\"rating\", predictionCol=\"prediction\")"
   ]
  },
  {
   "cell_type": "code",
   "execution_count": 59,
   "metadata": {},
   "outputs": [],
   "source": [
    "rmse = evaluator.evaluate(predictions)\n",
    "print(rmse)"
   ]
  },
  {
   "cell_type": "markdown",
   "metadata": {},
   "source": [
    "# Looking for all movie by user in test dataset\n"
   ]
  },
  {
   "cell_type": "code",
   "execution_count": 63,
   "metadata": {},
   "outputs": [
    {
     "name": "stdout",
     "output_type": "stream",
     "text": [
      "enter user id11\n",
      "+-------+------+\n",
      "|movieId|userId|\n",
      "+-------+------+\n",
      "|    165|    11|\n",
      "|    208|    11|\n",
      "|    292|    11|\n",
      "|    377|    11|\n",
      "|    466|    11|\n",
      "|    474|    11|\n",
      "|    529|    11|\n",
      "|    736|    11|\n",
      "|   1100|    11|\n",
      "|   1101|    11|\n",
      "|   1385|    11|\n",
      "|   1391|    11|\n",
      "|   1438|    11|\n",
      "|   1518|    11|\n",
      "|   1597|    11|\n",
      "|   1604|    11|\n",
      "|   1616|    11|\n",
      "|   1687|    11|\n",
      "|   1882|    11|\n",
      "|   1918|    11|\n",
      "+-------+------+\n",
      "\n"
     ]
    }
   ],
   "source": [
    "# showing below is prediction as how will user like / dislike the movie\n",
    "id=int(input(\"enter user id:\"))\n",
    "user = test.filter(test['userId']==id).select(['movieId','userId'])\n",
    "user.show()"
   ]
  },
  {
   "cell_type": "markdown",
   "metadata": {},
   "source": [
    "# Movie is predicated as through its previous searches"
   ]
  },
  {
   "cell_type": "code",
   "execution_count": 67,
   "metadata": {},
   "outputs": [
    {
     "name": "stdout",
     "output_type": "stream",
     "text": [
      "+-------+------+----------+\n",
      "|movieId|userId|prediction|\n",
      "+-------+------+----------+\n",
      "|    165|    11| 3.6684828|\n",
      "|    208|    11|  2.711164|\n",
      "|    292|    11|  3.586186|\n",
      "|    377|    11| 3.5656059|\n",
      "|    466|    11| 2.2957363|\n",
      "|    474|    11|  4.100631|\n",
      "|    529|    11| 3.7298448|\n",
      "|    736|    11| 3.1874573|\n",
      "|   1100|    11| 3.3059604|\n",
      "|   1101|    11| 3.7830806|\n",
      "|   1385|    11| 2.9659758|\n",
      "|   1391|    11| 2.7141316|\n",
      "|   1438|    11| 2.7901266|\n",
      "|   1518|    11| 3.6351182|\n",
      "|   1597|    11|  3.470031|\n",
      "|   1616|    11| 3.7754712|\n",
      "|   1687|    11|  3.297877|\n",
      "|   1882|    11| 2.4247594|\n",
      "|   1918|    11| 3.2869189|\n",
      "+-------+------+----------+\n",
      "\n"
     ]
    }
   ],
   "source": [
    "recommeded = model.transform(user)\n",
    "#recommeded.show()\n",
    "\n",
    "# user id will like this movie as predicted \n",
    "recommeded.orderBy(['movieId','prediction']).show()"
   ]
  }
 ],
 "metadata": {
  "kernelspec": {
   "display_name": "Python 3",
   "language": "python",
   "name": "python3"
  },
  "language_info": {
   "codemirror_mode": {
    "name": "ipython",
    "version": 3
   },
   "file_extension": ".py",
   "mimetype": "text/x-python",
   "name": "python",
   "nbconvert_exporter": "python",
   "pygments_lexer": "ipython3",
   "version": "3.5.2"
  }
 },
 "nbformat": 4,
 "nbformat_minor": 2
}
